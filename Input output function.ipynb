{
 "cells": [
  {
   "cell_type": "code",
   "execution_count": 1,
   "id": "546633d7",
   "metadata": {},
   "outputs": [
    {
     "name": "stdout",
     "output_type": "stream",
     "text": [
      "Enter the value13\n"
     ]
    }
   ],
   "source": [
    "x=input(\"Enter the value\")"
   ]
  },
  {
   "cell_type": "code",
   "execution_count": 2,
   "id": "3392d4a4",
   "metadata": {},
   "outputs": [
    {
     "name": "stdout",
     "output_type": "stream",
     "text": [
      "This lecture is actually about how to output the text in python 3\n"
     ]
    }
   ],
   "source": [
    "print(\"This lecture is actually about how to output the text in python 3\")"
   ]
  },
  {
   "cell_type": "code",
   "execution_count": 3,
   "id": "b13ebd03",
   "metadata": {},
   "outputs": [
    {
     "name": "stdout",
     "output_type": "stream",
     "text": [
      "Sharpsbrain offered free python courses and many other language courses\n"
     ]
    }
   ],
   "source": [
    "print(\"Sharpsbrain offered free python courses and many other language courses\")"
   ]
  },
  {
   "cell_type": "code",
   "execution_count": 4,
   "id": "404e9158",
   "metadata": {},
   "outputs": [
    {
     "name": "stdout",
     "output_type": "stream",
     "text": [
      "Pakistan is my country\n"
     ]
    }
   ],
   "source": [
    "print(\"Pakistan is my country\")"
   ]
  },
  {
   "cell_type": "code",
   "execution_count": 6,
   "id": "ac0b9fba",
   "metadata": {},
   "outputs": [
    {
     "name": "stdout",
     "output_type": "stream",
     "text": [
      "9\n"
     ]
    }
   ],
   "source": [
    "x=9\n",
    "print(x)"
   ]
  },
  {
   "cell_type": "code",
   "execution_count": 8,
   "id": "dbaf59dc",
   "metadata": {},
   "outputs": [
    {
     "name": "stdout",
     "output_type": "stream",
     "text": [
      "X is:  9\n",
      "Enter the value156\n",
      "x is:  156\n"
     ]
    }
   ],
   "source": [
    "x=9\n",
    "print(\"X is: \",x)\n",
    "x=int(input(\"Enter the value\"))\n",
    "print(\"x is: \",x)"
   ]
  },
  {
   "cell_type": "code",
   "execution_count": null,
   "id": "77324ba3",
   "metadata": {},
   "outputs": [],
   "source": []
  }
 ],
 "metadata": {
  "kernelspec": {
   "display_name": "Python 3 (ipykernel)",
   "language": "python",
   "name": "python3"
  },
  "language_info": {
   "codemirror_mode": {
    "name": "ipython",
    "version": 3
   },
   "file_extension": ".py",
   "mimetype": "text/x-python",
   "name": "python",
   "nbconvert_exporter": "python",
   "pygments_lexer": "ipython3",
   "version": "3.9.12"
  }
 },
 "nbformat": 4,
 "nbformat_minor": 5
}
